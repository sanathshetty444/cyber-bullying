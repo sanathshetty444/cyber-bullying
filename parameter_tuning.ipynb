{
  "nbformat": 4,
  "nbformat_minor": 0,
  "metadata": {
    "colab": {
      "name": "parameter tuning.ipynb",
      "provenance": [],
      "collapsed_sections": [],
      "authorship_tag": "ABX9TyMG1dlS929LnRI97lvrqcpZ",
      "include_colab_link": true
    },
    "kernelspec": {
      "name": "python3",
      "display_name": "Python 3"
    },
    "language_info": {
      "name": "python"
    }
  },
  "cells": [
    {
      "cell_type": "markdown",
      "metadata": {
        "id": "view-in-github",
        "colab_type": "text"
      },
      "source": [
        "<a href=\"https://colab.research.google.com/github/sanathshetty444/cyber-bullying/blob/main/parameter_tuning.ipynb\" target=\"_parent\"><img src=\"https://colab.research.google.com/assets/colab-badge.svg\" alt=\"Open In Colab\"/></a>"
      ]
    },
    {
      "cell_type": "code",
      "metadata": {
        "id": "m0p75l1eQQn2"
      },
      "source": [
        "import numpy as np\n",
        "import tensorflow as tf\n",
        "from tensorflow import keras\n",
        "from tensorflow.keras.models import Sequential\n",
        "from tensorflow.keras.layers import Activation, Dense, Flatten, BatchNormalization, Conv2D, MaxPool2D\n",
        "from tensorflow.keras.optimizers import Adam\n",
        "from tensorflow.keras.metrics import categorical_crossentropy\n",
        "from tensorflow.keras.preprocessing.image import ImageDataGenerator\n",
        "from sklearn.metrics import confusion_matrix,classification_report,accuracy_score\n",
        "import itertools\n",
        "import os\n",
        "import shutil\n",
        "import random\n",
        "import glob\n",
        "import matplotlib.pyplot as plt\n",
        "import warnings\n",
        "warnings.simplefilter(action='ignore', category=FutureWarning)\n",
        "%matplotlib inline"
      ],
      "execution_count": 1,
      "outputs": []
    },
    {
      "cell_type": "code",
      "metadata": {
        "colab": {
          "base_uri": "https://localhost:8080/"
        },
        "id": "4FmONcLjQRp3",
        "outputId": "62864b01-dd8b-4c7b-a54a-dc2c6d60d59e"
      },
      "source": [
        "from google.colab import drive\n",
        "drive.mount('/content/gdrive/')"
      ],
      "execution_count": 2,
      "outputs": [
        {
          "output_type": "stream",
          "text": [
            "Mounted at /content/gdrive/\n"
          ],
          "name": "stdout"
        }
      ]
    },
    {
      "cell_type": "code",
      "metadata": {
        "id": "Hv5DaHDyQUQp"
      },
      "source": [
        "os.chdir('/content/gdrive/MyDrive/CBD_dataset/')"
      ],
      "execution_count": 4,
      "outputs": []
    },
    {
      "cell_type": "code",
      "metadata": {
        "id": "7FtvCvtIQq0u"
      },
      "source": [
        "train_path = 'train'\n",
        "valid_path = 'valid'\n",
        "test_path = 'test'"
      ],
      "execution_count": 6,
      "outputs": []
    },
    {
      "cell_type": "code",
      "metadata": {
        "colab": {
          "base_uri": "https://localhost:8080/"
        },
        "id": "X1dvMyJUQciT",
        "outputId": "3e2f840f-e4e1-4cf0-c10d-751cf32459f4"
      },
      "source": [
        "train_batches = ImageDataGenerator(preprocessing_function=tf.keras.applications.vgg16.preprocess_input) \\\n",
        "    .flow_from_directory(directory=train_path, target_size=(224,224), classes=['bull', 'non-bull'], batch_size=10)\n",
        "valid_batches = ImageDataGenerator(preprocessing_function=tf.keras.applications.vgg16.preprocess_input) \\\n",
        "    .flow_from_directory(directory=valid_path, target_size=(224,224), classes=['bull', 'non-bull'], batch_size=10)\n",
        "test_batches = ImageDataGenerator(preprocessing_function=tf.keras.applications.vgg16.preprocess_input) \\\n",
        "    .flow_from_directory(directory=test_path, target_size=(224,224), classes=['bull', 'non-bull'], batch_size=10, shuffle=False)\n"
      ],
      "execution_count": 7,
      "outputs": [
        {
          "output_type": "stream",
          "text": [
            "Found 195 images belonging to 2 classes.\n",
            "Found 29 images belonging to 2 classes.\n",
            "Found 15 images belonging to 2 classes.\n"
          ],
          "name": "stdout"
        }
      ]
    },
    {
      "cell_type": "code",
      "metadata": {
        "id": "ylUnMu8ZT37f"
      },
      "source": [
        "test_imgs,test_labels=next(test_batches)"
      ],
      "execution_count": 26,
      "outputs": []
    },
    {
      "cell_type": "code",
      "metadata": {
        "id": "WLqJAz6cdeZH"
      },
      "source": [
        "model = Sequential([\n",
        "Conv2D(filters=32, kernel_size=(3, 3), activation='relu', padding = 'same', input_shape=(224,224,3)),\n",
        "MaxPool2D(pool_size=(2, 2), strides=2),\n",
        "Conv2D(filters=64, kernel_size=(3, 3), activation='relu', padding = 'same'),\n",
        "MaxPool2D(pool_size=(2, 2), strides=2),\n",
        "Flatten(),\n",
        "Dense(units=2, activation='softmax')\n",
        "])\n",
        "model.compile(optimizer=Adam(learning_rate=0.0001), loss='categorical_crossentropy', metrics=['accuracy'])\n",
        "\n",
        "\n",
        "model.fit(x=train_batches,\n",
        "  steps_per_epoch=len(train_batches),\n",
        "  validation_data=valid_batches,\n",
        "  validation_steps=len(valid_batches),\n",
        "  epochs=20,\n",
        "  verbose=2\n",
        ")\n",
        "predictions=model.predict(x=test_batches,verbose=1)\n",
        "np.round(predictions)\n",
        "ac = accuracy_score(y_true=test_batches.classes, y_pred=np.argmax(predictions, axis=-1))\n"
      ],
      "execution_count": null,
      "outputs": []
    },
    {
      "cell_type": "code",
      "metadata": {
        "colab": {
          "base_uri": "https://localhost:8080/"
        },
        "id": "acf4M1Dldk2Q",
        "outputId": "f992a545-71a8-445a-a4e8-e247dac0d637"
      },
      "source": [
        "print(\"{} => {}\".format(20,ac))"
      ],
      "execution_count": 44,
      "outputs": [
        {
          "output_type": "stream",
          "text": [
            "20 => 0.8666666666666667\n"
          ],
          "name": "stdout"
        }
      ]
    },
    {
      "cell_type": "code",
      "metadata": {
        "colab": {
          "base_uri": "https://localhost:8080/"
        },
        "id": "Ife78upiewDB",
        "outputId": "c714483d-3b9d-4452-c7d0-ce4185cc3ba4"
      },
      "source": [
        "model = Sequential([\n",
        "Conv2D(filters=32, kernel_size=(3, 3), activation='relu', padding = 'same', input_shape=(224,224,3)),\n",
        "MaxPool2D(pool_size=(2, 2), strides=2),\n",
        "Conv2D(filters=64, kernel_size=(3, 3), activation='relu', padding = 'same'),\n",
        "MaxPool2D(pool_size=(2, 2), strides=2),\n",
        "Flatten(),\n",
        "Dense(units=2, activation='softmax')\n",
        "])\n",
        "model.compile(optimizer=Adam(learning_rate=0.0001), loss='categorical_crossentropy', metrics=['accuracy'])\n",
        "\n",
        "\n",
        "model.fit(x=train_batches,\n",
        "  steps_per_epoch=len(train_batches),\n",
        "  validation_data=valid_batches,\n",
        "  validation_steps=len(valid_batches),\n",
        "  epochs=30,\n",
        "  verbose=2\n",
        ")\n",
        "predictions=model.predict(x=test_batches,verbose=1)\n",
        "np.round(predictions)\n",
        "ac = accuracy_score(y_true=test_batches.classes, y_pred=np.argmax(predictions, axis=-1))\n"
      ],
      "execution_count": 45,
      "outputs": [
        {
          "output_type": "stream",
          "text": [
            "Epoch 1/30\n",
            "20/20 - 14s - loss: 81.0726 - accuracy: 0.5487 - val_loss: 28.1817 - val_accuracy: 0.6552\n",
            "Epoch 2/30\n",
            "20/20 - 13s - loss: 21.0212 - accuracy: 0.7077 - val_loss: 13.5997 - val_accuracy: 0.5862\n",
            "Epoch 3/30\n",
            "20/20 - 13s - loss: 6.6021 - accuracy: 0.7897 - val_loss: 10.2117 - val_accuracy: 0.7241\n",
            "Epoch 4/30\n",
            "20/20 - 13s - loss: 3.3380 - accuracy: 0.8462 - val_loss: 13.1288 - val_accuracy: 0.5862\n",
            "Epoch 5/30\n",
            "20/20 - 13s - loss: 0.9815 - accuracy: 0.9179 - val_loss: 10.8009 - val_accuracy: 0.7241\n",
            "Epoch 6/30\n",
            "20/20 - 13s - loss: 0.8756 - accuracy: 0.9744 - val_loss: 11.0145 - val_accuracy: 0.6897\n",
            "Epoch 7/30\n",
            "20/20 - 13s - loss: 0.0949 - accuracy: 0.9795 - val_loss: 5.0749 - val_accuracy: 0.6897\n",
            "Epoch 8/30\n",
            "20/20 - 13s - loss: 0.0430 - accuracy: 0.9949 - val_loss: 6.6796 - val_accuracy: 0.6897\n",
            "Epoch 9/30\n",
            "20/20 - 13s - loss: 0.0184 - accuracy: 0.9949 - val_loss: 12.8351 - val_accuracy: 0.5517\n",
            "Epoch 10/30\n",
            "20/20 - 13s - loss: 0.0539 - accuracy: 0.9897 - val_loss: 7.3480 - val_accuracy: 0.6897\n",
            "Epoch 11/30\n",
            "20/20 - 13s - loss: 2.8055e-05 - accuracy: 1.0000 - val_loss: 7.9453 - val_accuracy: 0.6897\n",
            "Epoch 12/30\n",
            "20/20 - 13s - loss: 4.3358e-05 - accuracy: 1.0000 - val_loss: 7.9880 - val_accuracy: 0.6897\n",
            "Epoch 13/30\n",
            "20/20 - 13s - loss: 3.0126e-05 - accuracy: 1.0000 - val_loss: 7.9457 - val_accuracy: 0.6897\n",
            "Epoch 14/30\n",
            "20/20 - 13s - loss: 1.4800e-05 - accuracy: 1.0000 - val_loss: 7.9358 - val_accuracy: 0.6897\n",
            "Epoch 15/30\n",
            "20/20 - 13s - loss: 1.2263e-05 - accuracy: 1.0000 - val_loss: 7.9063 - val_accuracy: 0.6897\n",
            "Epoch 16/30\n",
            "20/20 - 13s - loss: 8.6382e-06 - accuracy: 1.0000 - val_loss: 7.8947 - val_accuracy: 0.6897\n",
            "Epoch 17/30\n",
            "20/20 - 13s - loss: 7.4235e-06 - accuracy: 1.0000 - val_loss: 7.8786 - val_accuracy: 0.6897\n",
            "Epoch 18/30\n",
            "20/20 - 13s - loss: 6.2110e-06 - accuracy: 1.0000 - val_loss: 7.8666 - val_accuracy: 0.6897\n",
            "Epoch 19/30\n",
            "20/20 - 13s - loss: 5.2841e-06 - accuracy: 1.0000 - val_loss: 7.8582 - val_accuracy: 0.6897\n",
            "Epoch 20/30\n",
            "20/20 - 13s - loss: 4.6630e-06 - accuracy: 1.0000 - val_loss: 7.8508 - val_accuracy: 0.6897\n",
            "Epoch 21/30\n",
            "20/20 - 13s - loss: 4.1792e-06 - accuracy: 1.0000 - val_loss: 7.8432 - val_accuracy: 0.6897\n",
            "Epoch 22/30\n",
            "20/20 - 13s - loss: 3.8371e-06 - accuracy: 1.0000 - val_loss: 7.8342 - val_accuracy: 0.6897\n",
            "Epoch 23/30\n",
            "20/20 - 13s - loss: 3.3814e-06 - accuracy: 1.0000 - val_loss: 7.8292 - val_accuracy: 0.6897\n",
            "Epoch 24/30\n",
            "20/20 - 13s - loss: 2.8682e-06 - accuracy: 1.0000 - val_loss: 7.8202 - val_accuracy: 0.6897\n",
            "Epoch 25/30\n",
            "20/20 - 13s - loss: 2.7955e-06 - accuracy: 1.0000 - val_loss: 7.8100 - val_accuracy: 0.6897\n",
            "Epoch 26/30\n",
            "20/20 - 13s - loss: 2.4472e-06 - accuracy: 1.0000 - val_loss: 7.8047 - val_accuracy: 0.6897\n",
            "Epoch 27/30\n",
            "20/20 - 13s - loss: 2.2608e-06 - accuracy: 1.0000 - val_loss: 7.8032 - val_accuracy: 0.6897\n",
            "Epoch 28/30\n",
            "20/20 - 13s - loss: 2.1692e-06 - accuracy: 1.0000 - val_loss: 7.7960 - val_accuracy: 0.6897\n",
            "Epoch 29/30\n",
            "20/20 - 13s - loss: 1.9895e-06 - accuracy: 1.0000 - val_loss: 7.7940 - val_accuracy: 0.6897\n",
            "Epoch 30/30\n",
            "20/20 - 13s - loss: 1.9241e-06 - accuracy: 1.0000 - val_loss: 7.7871 - val_accuracy: 0.6897\n",
            "WARNING:tensorflow:6 out of the last 15 calls to <function Model.make_predict_function.<locals>.predict_function at 0x7f4c1a3e25f0> triggered tf.function retracing. Tracing is expensive and the excessive number of tracings could be due to (1) creating @tf.function repeatedly in a loop, (2) passing tensors with different shapes, (3) passing Python objects instead of tensors. For (1), please define your @tf.function outside of the loop. For (2), @tf.function has experimental_relax_shapes=True option that relaxes argument shapes that can avoid unnecessary retracing. For (3), please refer to https://www.tensorflow.org/guide/function#controlling_retracing and https://www.tensorflow.org/api_docs/python/tf/function for  more details.\n",
            "2/2 [==============================] - 0s 101ms/step\n"
          ],
          "name": "stdout"
        }
      ]
    },
    {
      "cell_type": "code",
      "metadata": {
        "colab": {
          "base_uri": "https://localhost:8080/"
        },
        "id": "vZ9zul23ezGT",
        "outputId": "dc7ab402-aaeb-4b01-b3e8-764ff80a92db"
      },
      "source": [
        "print(\"{} => {}\".format(30,ac))"
      ],
      "execution_count": 47,
      "outputs": [
        {
          "output_type": "stream",
          "text": [
            "30 => 0.8\n"
          ],
          "name": "stdout"
        }
      ]
    },
    {
      "cell_type": "code",
      "metadata": {
        "id": "u8OUH-qrgZ1Z"
      },
      "source": [
        ""
      ],
      "execution_count": null,
      "outputs": []
    }
  ]
}