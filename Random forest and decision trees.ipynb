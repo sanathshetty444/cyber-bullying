{
 "cells": [
  {
   "cell_type": "code",
   "execution_count": 1,
   "metadata": {},
   "outputs": [],
   "source": [
    "from sklearn.metrics import accuracy_score\n",
    "import pandas as pd\n",
    "import numpy as np\n",
    "import matplotlib.pyplot as plt\n",
    "import seaborn as sns\n",
    "%matplotlib inline\n",
    "from sklearn.feature_extraction.text import CountVectorizer\n",
    "from sklearn.feature_extraction.text import TfidfVectorizer\n",
    "from sklearn.preprocessing import StandardScaler\n",
    "from sklearn.ensemble import RandomForestClassifier\n",
    "from sklearn.model_selection import train_test_split\n",
    "from sklearn.metrics import classification_report "
   ]
  },
  {
   "cell_type": "code",
   "execution_count": 2,
   "metadata": {},
   "outputs": [
    {
     "data": {
      "text/plain": [
       "(11090, 17712)"
      ]
     },
     "execution_count": 2,
     "metadata": {},
     "output_type": "execute_result"
    }
   ],
   "source": [
    "data=pd.read_csv('labeled_tweets.csv')\n",
    "v = TfidfVectorizer(max_features=1000000)\n",
    "X=data['full_text']\n",
    "X = v.fit_transform(X)\n",
    "X.shape"
   ]
  },
  {
   "cell_type": "code",
   "execution_count": 3,
   "metadata": {},
   "outputs": [
    {
     "data": {
      "text/html": [
       "<div>\n",
       "<style scoped>\n",
       "    .dataframe tbody tr th:only-of-type {\n",
       "        vertical-align: middle;\n",
       "    }\n",
       "\n",
       "    .dataframe tbody tr th {\n",
       "        vertical-align: top;\n",
       "    }\n",
       "\n",
       "    .dataframe thead th {\n",
       "        text-align: right;\n",
       "    }\n",
       "</style>\n",
       "<table border=\"1\" class=\"dataframe\">\n",
       "  <thead>\n",
       "    <tr style=\"text-align: right;\">\n",
       "      <th></th>\n",
       "      <th>id</th>\n",
       "      <th>label</th>\n",
       "      <th>full_text</th>\n",
       "      <th>target</th>\n",
       "    </tr>\n",
       "  </thead>\n",
       "  <tbody>\n",
       "    <tr>\n",
       "      <th>0</th>\n",
       "      <td>572342978255048705</td>\n",
       "      <td>Offensive</td>\n",
       "      <td>So Drasko just said he was impressed the girls...</td>\n",
       "      <td>1</td>\n",
       "    </tr>\n",
       "    <tr>\n",
       "      <th>1</th>\n",
       "      <td>572342978255048705</td>\n",
       "      <td>Offensive</td>\n",
       "      <td>So Drasko just said he was impressed the girls...</td>\n",
       "      <td>1</td>\n",
       "    </tr>\n",
       "    <tr>\n",
       "      <th>2</th>\n",
       "      <td>572341498827522049</td>\n",
       "      <td>Offensive</td>\n",
       "      <td>Drasko they didn't cook half a bird you idiot ...</td>\n",
       "      <td>1</td>\n",
       "    </tr>\n",
       "    <tr>\n",
       "      <th>3</th>\n",
       "      <td>572341498827522049</td>\n",
       "      <td>Offensive</td>\n",
       "      <td>Drasko they didn't cook half a bird you idiot ...</td>\n",
       "      <td>1</td>\n",
       "    </tr>\n",
       "    <tr>\n",
       "      <th>4</th>\n",
       "      <td>572340476503724032</td>\n",
       "      <td>Offensive</td>\n",
       "      <td>Hopefully someone cooks Drasko in the next ep ...</td>\n",
       "      <td>1</td>\n",
       "    </tr>\n",
       "    <tr>\n",
       "      <th>...</th>\n",
       "      <td>...</td>\n",
       "      <td>...</td>\n",
       "      <td>...</td>\n",
       "      <td>...</td>\n",
       "    </tr>\n",
       "    <tr>\n",
       "      <th>11085</th>\n",
       "      <td>576255143101882368</td>\n",
       "      <td>Non-offensive</td>\n",
       "      <td>RT @Transition: @freebsdgirl just so I’m clear...</td>\n",
       "      <td>0</td>\n",
       "    </tr>\n",
       "    <tr>\n",
       "      <th>11086</th>\n",
       "      <td>576481461424934912</td>\n",
       "      <td>Non-offensive</td>\n",
       "      <td>RT @Leonard_Delaney: @freebsdgirl I know! Holy...</td>\n",
       "      <td>0</td>\n",
       "    </tr>\n",
       "    <tr>\n",
       "      <th>11087</th>\n",
       "      <td>576607445692256256</td>\n",
       "      <td>Non-offensive</td>\n",
       "      <td>FLOSS Weekly, open source projects, and paying...</td>\n",
       "      <td>0</td>\n",
       "    </tr>\n",
       "    <tr>\n",
       "      <th>11088</th>\n",
       "      <td>572268344394399744</td>\n",
       "      <td>Non-offensive</td>\n",
       "      <td>RT @Kasparov63: My WSJ article on Boris Nemtso...</td>\n",
       "      <td>0</td>\n",
       "    </tr>\n",
       "    <tr>\n",
       "      <th>11089</th>\n",
       "      <td>560595245814267905</td>\n",
       "      <td>Non-offensive</td>\n",
       "      <td>\"@panelrific: Let's go 🐧🐧🐧🐧🐧🐧😃\"</td>\n",
       "      <td>0</td>\n",
       "    </tr>\n",
       "  </tbody>\n",
       "</table>\n",
       "<p>11090 rows × 4 columns</p>\n",
       "</div>"
      ],
      "text/plain": [
       "                       id          label  \\\n",
       "0      572342978255048705      Offensive   \n",
       "1      572342978255048705      Offensive   \n",
       "2      572341498827522049      Offensive   \n",
       "3      572341498827522049      Offensive   \n",
       "4      572340476503724032      Offensive   \n",
       "...                   ...            ...   \n",
       "11085  576255143101882368  Non-offensive   \n",
       "11086  576481461424934912  Non-offensive   \n",
       "11087  576607445692256256  Non-offensive   \n",
       "11088  572268344394399744  Non-offensive   \n",
       "11089  560595245814267905  Non-offensive   \n",
       "\n",
       "                                               full_text  target  \n",
       "0      So Drasko just said he was impressed the girls...       1  \n",
       "1      So Drasko just said he was impressed the girls...       1  \n",
       "2      Drasko they didn't cook half a bird you idiot ...       1  \n",
       "3      Drasko they didn't cook half a bird you idiot ...       1  \n",
       "4      Hopefully someone cooks Drasko in the next ep ...       1  \n",
       "...                                                  ...     ...  \n",
       "11085  RT @Transition: @freebsdgirl just so I’m clear...       0  \n",
       "11086  RT @Leonard_Delaney: @freebsdgirl I know! Holy...       0  \n",
       "11087  FLOSS Weekly, open source projects, and paying...       0  \n",
       "11088  RT @Kasparov63: My WSJ article on Boris Nemtso...       0  \n",
       "11089                    \"@panelrific: Let's go 🐧🐧🐧🐧🐧🐧😃\"       0  \n",
       "\n",
       "[11090 rows x 4 columns]"
      ]
     },
     "execution_count": 3,
     "metadata": {},
     "output_type": "execute_result"
    }
   ],
   "source": [
    "data['target']=data['label'].apply(lambda x: 1 if x=='Offensive' else 0)\n",
    "data"
   ]
  },
  {
   "cell_type": "code",
   "execution_count": 4,
   "metadata": {},
   "outputs": [],
   "source": [
    "X_train, X_test, y_train, y_test = train_test_split(X,data['target'], test_size=0.30, \n",
    "                                                    random_state=101)"
   ]
  },
  {
   "cell_type": "code",
   "execution_count": 5,
   "metadata": {},
   "outputs": [
    {
     "data": {
      "text/plain": [
       "RandomForestClassifier()"
      ]
     },
     "execution_count": 5,
     "metadata": {},
     "output_type": "execute_result"
    }
   ],
   "source": [
    "rfc = RandomForestClassifier(n_estimators=100)\n",
    "rfc.fit(X_train, y_train)"
   ]
  },
  {
   "cell_type": "code",
   "execution_count": 7,
   "metadata": {},
   "outputs": [
    {
     "name": "stdout",
     "output_type": "stream",
     "text": [
      "              precision    recall  f1-score   support\n",
      "\n",
      "           0       0.84      0.98      0.91      2423\n",
      "           1       0.91      0.51      0.65       904\n",
      "\n",
      "    accuracy                           0.85      3327\n",
      "   macro avg       0.88      0.74      0.78      3327\n",
      "weighted avg       0.86      0.85      0.84      3327\n",
      "\n"
     ]
    }
   ],
   "source": [
    "rfc_pred = rfc.predict(X_test)\n",
    "print(classification_report(y_test,rfc_pred))"
   ]
  },
  {
   "cell_type": "code",
   "execution_count": 8,
   "metadata": {},
   "outputs": [
    {
     "data": {
      "text/plain": [
       "0.852419597234746"
      ]
     },
     "execution_count": 8,
     "metadata": {},
     "output_type": "execute_result"
    }
   ],
   "source": [
    "accuracy_score(rfc_pred,y_test)"
   ]
  },
  {
   "cell_type": "code",
   "execution_count": 9,
   "metadata": {},
   "outputs": [
    {
     "name": "stdout",
     "output_type": "stream",
     "text": [
      "              precision    recall  f1-score   support\n",
      "\n",
      "           0       0.87      0.92      0.90      2423\n",
      "           1       0.75      0.64      0.69       904\n",
      "\n",
      "    accuracy                           0.84      3327\n",
      "   macro avg       0.81      0.78      0.79      3327\n",
      "weighted avg       0.84      0.84      0.84      3327\n",
      "\n"
     ]
    }
   ],
   "source": [
    "from sklearn.tree import DecisionTreeClassifier\n",
    "dtree = DecisionTreeClassifier()\n",
    "dtree.fit(X_train,y_train)\n",
    "predictions = dtree.predict(X_test)\n",
    "print(classification_report(y_test,predictions))"
   ]
  },
  {
   "cell_type": "code",
   "execution_count": null,
   "metadata": {},
   "outputs": [],
   "source": []
  }
 ],
 "metadata": {
  "kernelspec": {
   "display_name": "Python 3",
   "language": "python",
   "name": "python3"
  },
  "language_info": {
   "codemirror_mode": {
    "name": "ipython",
    "version": 3
   },
   "file_extension": ".py",
   "mimetype": "text/x-python",
   "name": "python",
   "nbconvert_exporter": "python",
   "pygments_lexer": "ipython3",
   "version": "3.8.6"
  }
 },
 "nbformat": 4,
 "nbformat_minor": 4
}
