{
 "cells": [
  {
   "cell_type": "code",
   "execution_count": 1,
   "metadata": {},
   "outputs": [],
   "source": [
    "import pandas as pd\n",
    "import numpy as np\n",
    "import matplotlib.pyplot as plt\n",
    "import seaborn as sns\n",
    "%matplotlib inline"
   ]
  },
  {
   "cell_type": "code",
   "execution_count": 2,
   "metadata": {},
   "outputs": [
    {
     "data": {
      "text/html": [
       "<div>\n",
       "<style scoped>\n",
       "    .dataframe tbody tr th:only-of-type {\n",
       "        vertical-align: middle;\n",
       "    }\n",
       "\n",
       "    .dataframe tbody tr th {\n",
       "        vertical-align: top;\n",
       "    }\n",
       "\n",
       "    .dataframe thead th {\n",
       "        text-align: right;\n",
       "    }\n",
       "</style>\n",
       "<table border=\"1\" class=\"dataframe\">\n",
       "  <thead>\n",
       "    <tr style=\"text-align: right;\">\n",
       "      <th></th>\n",
       "      <th>id</th>\n",
       "      <th>label</th>\n",
       "      <th>full_text</th>\n",
       "    </tr>\n",
       "  </thead>\n",
       "  <tbody>\n",
       "    <tr>\n",
       "      <th>0</th>\n",
       "      <td>572342978255048705</td>\n",
       "      <td>Offensive</td>\n",
       "      <td>So Drasko just said he was impressed the girls...</td>\n",
       "    </tr>\n",
       "    <tr>\n",
       "      <th>1</th>\n",
       "      <td>572342978255048705</td>\n",
       "      <td>Offensive</td>\n",
       "      <td>So Drasko just said he was impressed the girls...</td>\n",
       "    </tr>\n",
       "    <tr>\n",
       "      <th>2</th>\n",
       "      <td>572341498827522049</td>\n",
       "      <td>Offensive</td>\n",
       "      <td>Drasko they didn't cook half a bird you idiot ...</td>\n",
       "    </tr>\n",
       "    <tr>\n",
       "      <th>3</th>\n",
       "      <td>572341498827522049</td>\n",
       "      <td>Offensive</td>\n",
       "      <td>Drasko they didn't cook half a bird you idiot ...</td>\n",
       "    </tr>\n",
       "    <tr>\n",
       "      <th>4</th>\n",
       "      <td>572340476503724032</td>\n",
       "      <td>Offensive</td>\n",
       "      <td>Hopefully someone cooks Drasko in the next ep ...</td>\n",
       "    </tr>\n",
       "    <tr>\n",
       "      <th>...</th>\n",
       "      <td>...</td>\n",
       "      <td>...</td>\n",
       "      <td>...</td>\n",
       "    </tr>\n",
       "    <tr>\n",
       "      <th>11085</th>\n",
       "      <td>576255143101882368</td>\n",
       "      <td>Non-offensive</td>\n",
       "      <td>RT @Transition: @freebsdgirl just so I’m clear...</td>\n",
       "    </tr>\n",
       "    <tr>\n",
       "      <th>11086</th>\n",
       "      <td>576481461424934912</td>\n",
       "      <td>Non-offensive</td>\n",
       "      <td>RT @Leonard_Delaney: @freebsdgirl I know! Holy...</td>\n",
       "    </tr>\n",
       "    <tr>\n",
       "      <th>11087</th>\n",
       "      <td>576607445692256256</td>\n",
       "      <td>Non-offensive</td>\n",
       "      <td>FLOSS Weekly, open source projects, and paying...</td>\n",
       "    </tr>\n",
       "    <tr>\n",
       "      <th>11088</th>\n",
       "      <td>572268344394399744</td>\n",
       "      <td>Non-offensive</td>\n",
       "      <td>RT @Kasparov63: My WSJ article on Boris Nemtso...</td>\n",
       "    </tr>\n",
       "    <tr>\n",
       "      <th>11089</th>\n",
       "      <td>560595245814267905</td>\n",
       "      <td>Non-offensive</td>\n",
       "      <td>\"@panelrific: Let's go 🐧🐧🐧🐧🐧🐧😃\"</td>\n",
       "    </tr>\n",
       "  </tbody>\n",
       "</table>\n",
       "<p>11090 rows × 3 columns</p>\n",
       "</div>"
      ],
      "text/plain": [
       "                       id          label  \\\n",
       "0      572342978255048705      Offensive   \n",
       "1      572342978255048705      Offensive   \n",
       "2      572341498827522049      Offensive   \n",
       "3      572341498827522049      Offensive   \n",
       "4      572340476503724032      Offensive   \n",
       "...                   ...            ...   \n",
       "11085  576255143101882368  Non-offensive   \n",
       "11086  576481461424934912  Non-offensive   \n",
       "11087  576607445692256256  Non-offensive   \n",
       "11088  572268344394399744  Non-offensive   \n",
       "11089  560595245814267905  Non-offensive   \n",
       "\n",
       "                                               full_text  \n",
       "0      So Drasko just said he was impressed the girls...  \n",
       "1      So Drasko just said he was impressed the girls...  \n",
       "2      Drasko they didn't cook half a bird you idiot ...  \n",
       "3      Drasko they didn't cook half a bird you idiot ...  \n",
       "4      Hopefully someone cooks Drasko in the next ep ...  \n",
       "...                                                  ...  \n",
       "11085  RT @Transition: @freebsdgirl just so I’m clear...  \n",
       "11086  RT @Leonard_Delaney: @freebsdgirl I know! Holy...  \n",
       "11087  FLOSS Weekly, open source projects, and paying...  \n",
       "11088  RT @Kasparov63: My WSJ article on Boris Nemtso...  \n",
       "11089                    \"@panelrific: Let's go 🐧🐧🐧🐧🐧🐧😃\"  \n",
       "\n",
       "[11090 rows x 3 columns]"
      ]
     },
     "execution_count": 2,
     "metadata": {},
     "output_type": "execute_result"
    }
   ],
   "source": [
    "data=pd.read_csv('labeled_tweets.csv')\n",
    "data"
   ]
  },
  {
   "cell_type": "code",
   "execution_count": 3,
   "metadata": {},
   "outputs": [
    {
     "name": "stdout",
     "output_type": "stream",
     "text": [
      "<class 'pandas.core.frame.DataFrame'>\n",
      "RangeIndex: 11090 entries, 0 to 11089\n",
      "Data columns (total 3 columns):\n",
      " #   Column     Non-Null Count  Dtype \n",
      "---  ------     --------------  ----- \n",
      " 0   id         11090 non-null  int64 \n",
      " 1   label      11090 non-null  object\n",
      " 2   full_text  11090 non-null  object\n",
      "dtypes: int64(1), object(2)\n",
      "memory usage: 173.3+ KB\n"
     ]
    }
   ],
   "source": [
    "data.info()"
   ]
  },
  {
   "cell_type": "code",
   "execution_count": 4,
   "metadata": {},
   "outputs": [],
   "source": [
    "data['target']=data['label'].apply(lambda x:1 if x=='Offensive' else 0)"
   ]
  },
  {
   "cell_type": "code",
   "execution_count": 5,
   "metadata": {},
   "outputs": [
    {
     "data": {
      "text/html": [
       "<div>\n",
       "<style scoped>\n",
       "    .dataframe tbody tr th:only-of-type {\n",
       "        vertical-align: middle;\n",
       "    }\n",
       "\n",
       "    .dataframe tbody tr th {\n",
       "        vertical-align: top;\n",
       "    }\n",
       "\n",
       "    .dataframe thead th {\n",
       "        text-align: right;\n",
       "    }\n",
       "</style>\n",
       "<table border=\"1\" class=\"dataframe\">\n",
       "  <thead>\n",
       "    <tr style=\"text-align: right;\">\n",
       "      <th></th>\n",
       "      <th>id</th>\n",
       "      <th>label</th>\n",
       "      <th>full_text</th>\n",
       "      <th>target</th>\n",
       "    </tr>\n",
       "  </thead>\n",
       "  <tbody>\n",
       "    <tr>\n",
       "      <th>0</th>\n",
       "      <td>572342978255048705</td>\n",
       "      <td>Offensive</td>\n",
       "      <td>So Drasko just said he was impressed the girls...</td>\n",
       "      <td>1</td>\n",
       "    </tr>\n",
       "    <tr>\n",
       "      <th>1</th>\n",
       "      <td>572342978255048705</td>\n",
       "      <td>Offensive</td>\n",
       "      <td>So Drasko just said he was impressed the girls...</td>\n",
       "      <td>1</td>\n",
       "    </tr>\n",
       "    <tr>\n",
       "      <th>2</th>\n",
       "      <td>572341498827522049</td>\n",
       "      <td>Offensive</td>\n",
       "      <td>Drasko they didn't cook half a bird you idiot ...</td>\n",
       "      <td>1</td>\n",
       "    </tr>\n",
       "    <tr>\n",
       "      <th>3</th>\n",
       "      <td>572341498827522049</td>\n",
       "      <td>Offensive</td>\n",
       "      <td>Drasko they didn't cook half a bird you idiot ...</td>\n",
       "      <td>1</td>\n",
       "    </tr>\n",
       "    <tr>\n",
       "      <th>4</th>\n",
       "      <td>572340476503724032</td>\n",
       "      <td>Offensive</td>\n",
       "      <td>Hopefully someone cooks Drasko in the next ep ...</td>\n",
       "      <td>1</td>\n",
       "    </tr>\n",
       "    <tr>\n",
       "      <th>...</th>\n",
       "      <td>...</td>\n",
       "      <td>...</td>\n",
       "      <td>...</td>\n",
       "      <td>...</td>\n",
       "    </tr>\n",
       "    <tr>\n",
       "      <th>11085</th>\n",
       "      <td>576255143101882368</td>\n",
       "      <td>Non-offensive</td>\n",
       "      <td>RT @Transition: @freebsdgirl just so I’m clear...</td>\n",
       "      <td>0</td>\n",
       "    </tr>\n",
       "    <tr>\n",
       "      <th>11086</th>\n",
       "      <td>576481461424934912</td>\n",
       "      <td>Non-offensive</td>\n",
       "      <td>RT @Leonard_Delaney: @freebsdgirl I know! Holy...</td>\n",
       "      <td>0</td>\n",
       "    </tr>\n",
       "    <tr>\n",
       "      <th>11087</th>\n",
       "      <td>576607445692256256</td>\n",
       "      <td>Non-offensive</td>\n",
       "      <td>FLOSS Weekly, open source projects, and paying...</td>\n",
       "      <td>0</td>\n",
       "    </tr>\n",
       "    <tr>\n",
       "      <th>11088</th>\n",
       "      <td>572268344394399744</td>\n",
       "      <td>Non-offensive</td>\n",
       "      <td>RT @Kasparov63: My WSJ article on Boris Nemtso...</td>\n",
       "      <td>0</td>\n",
       "    </tr>\n",
       "    <tr>\n",
       "      <th>11089</th>\n",
       "      <td>560595245814267905</td>\n",
       "      <td>Non-offensive</td>\n",
       "      <td>\"@panelrific: Let's go 🐧🐧🐧🐧🐧🐧😃\"</td>\n",
       "      <td>0</td>\n",
       "    </tr>\n",
       "  </tbody>\n",
       "</table>\n",
       "<p>11090 rows × 4 columns</p>\n",
       "</div>"
      ],
      "text/plain": [
       "                       id          label  \\\n",
       "0      572342978255048705      Offensive   \n",
       "1      572342978255048705      Offensive   \n",
       "2      572341498827522049      Offensive   \n",
       "3      572341498827522049      Offensive   \n",
       "4      572340476503724032      Offensive   \n",
       "...                   ...            ...   \n",
       "11085  576255143101882368  Non-offensive   \n",
       "11086  576481461424934912  Non-offensive   \n",
       "11087  576607445692256256  Non-offensive   \n",
       "11088  572268344394399744  Non-offensive   \n",
       "11089  560595245814267905  Non-offensive   \n",
       "\n",
       "                                               full_text  target  \n",
       "0      So Drasko just said he was impressed the girls...       1  \n",
       "1      So Drasko just said he was impressed the girls...       1  \n",
       "2      Drasko they didn't cook half a bird you idiot ...       1  \n",
       "3      Drasko they didn't cook half a bird you idiot ...       1  \n",
       "4      Hopefully someone cooks Drasko in the next ep ...       1  \n",
       "...                                                  ...     ...  \n",
       "11085  RT @Transition: @freebsdgirl just so I’m clear...       0  \n",
       "11086  RT @Leonard_Delaney: @freebsdgirl I know! Holy...       0  \n",
       "11087  FLOSS Weekly, open source projects, and paying...       0  \n",
       "11088  RT @Kasparov63: My WSJ article on Boris Nemtso...       0  \n",
       "11089                    \"@panelrific: Let's go 🐧🐧🐧🐧🐧🐧😃\"       0  \n",
       "\n",
       "[11090 rows x 4 columns]"
      ]
     },
     "execution_count": 5,
     "metadata": {},
     "output_type": "execute_result"
    }
   ],
   "source": [
    "data"
   ]
  },
  {
   "cell_type": "code",
   "execution_count": 6,
   "metadata": {},
   "outputs": [],
   "source": [
    "from nltk.corpus import stopwords\n",
    "from sklearn.feature_extraction.text import TfidfVectorizer"
   ]
  },
  {
   "cell_type": "code",
   "execution_count": 7,
   "metadata": {},
   "outputs": [
    {
     "data": {
      "text/plain": [
       "(11090, 17572)"
      ]
     },
     "execution_count": 7,
     "metadata": {},
     "output_type": "execute_result"
    }
   ],
   "source": [
    "v = TfidfVectorizer(max_features=1000000,stop_words=stopwords.words('english'))\n",
    "X=data['full_text']\n",
    "X = v.fit_transform(X)\n",
    "X.shape"
   ]
  },
  {
   "cell_type": "code",
   "execution_count": 34,
   "metadata": {},
   "outputs": [],
   "source": [
    "from sklearn.model_selection import train_test_split\n",
    "X_train, X_test, y_train, y_test = train_test_split(X,data['target'], test_size=0.10, random_state=101)"
   ]
  },
  {
   "cell_type": "code",
   "execution_count": 35,
   "metadata": {},
   "outputs": [
    {
     "data": {
      "text/plain": [
       "SVC()"
      ]
     },
     "execution_count": 35,
     "metadata": {},
     "output_type": "execute_result"
    }
   ],
   "source": [
    "from sklearn.svm import SVC\n",
    "model = SVC()\n",
    "model.fit(X_train,y_train)"
   ]
  },
  {
   "cell_type": "code",
   "execution_count": 10,
   "metadata": {},
   "outputs": [],
   "source": [
    "predictions = model.predict(X_test)"
   ]
  },
  {
   "cell_type": "code",
   "execution_count": 11,
   "metadata": {},
   "outputs": [],
   "source": [
    "from sklearn.metrics import classification_report,confusion_matrix,accuracy_score"
   ]
  },
  {
   "cell_type": "code",
   "execution_count": 12,
   "metadata": {},
   "outputs": [],
   "source": [
    "tn, fp, fn, tp = confusion_matrix(predictions,y_test).ravel()\n"
   ]
  },
  {
   "cell_type": "code",
   "execution_count": 13,
   "metadata": {},
   "outputs": [
    {
     "name": "stdout",
     "output_type": "stream",
     "text": [
      "2376 428 47 476\n"
     ]
    }
   ],
   "source": [
    "print(tn,fp,fn,tp)"
   ]
  },
  {
   "cell_type": "code",
   "execution_count": 14,
   "metadata": {},
   "outputs": [
    {
     "name": "stdout",
     "output_type": "stream",
     "text": [
      "              precision    recall  f1-score   support\n",
      "\n",
      "           0       0.85      0.98      0.91      2423\n",
      "           1       0.91      0.53      0.67       904\n",
      "\n",
      "    accuracy                           0.86      3327\n",
      "   macro avg       0.88      0.75      0.79      3327\n",
      "weighted avg       0.86      0.86      0.84      3327\n",
      "\n"
     ]
    }
   ],
   "source": [
    "print(classification_report(y_test,predictions))"
   ]
  },
  {
   "cell_type": "code",
   "execution_count": 15,
   "metadata": {},
   "outputs": [
    {
     "data": {
      "text/plain": [
       "0.8572287345957319"
      ]
     },
     "execution_count": 15,
     "metadata": {},
     "output_type": "execute_result"
    }
   ],
   "source": [
    "accuracy_score(y_test,predictions)"
   ]
  },
  {
   "cell_type": "markdown",
   "metadata": {},
   "source": [
    "# Grid search"
   ]
  },
  {
   "cell_type": "code",
   "execution_count": 16,
   "metadata": {},
   "outputs": [],
   "source": [
    "param_grid = {'C': [0.1,1, 10, 100, 1000], 'gamma': [1,0.1,0.01,0.001,0.0001], 'kernel': ['rbf']} "
   ]
  },
  {
   "cell_type": "code",
   "execution_count": 17,
   "metadata": {},
   "outputs": [],
   "source": [
    "from sklearn.model_selection import GridSearchCV"
   ]
  },
  {
   "cell_type": "code",
   "execution_count": 18,
   "metadata": {},
   "outputs": [],
   "source": [
    "grid = GridSearchCV(SVC(),param_grid,refit=True,verbose=3)"
   ]
  },
  {
   "cell_type": "code",
   "execution_count": 19,
   "metadata": {},
   "outputs": [],
   "source": [
    "# grid.fit(X_train,y_train)"
   ]
  },
  {
   "cell_type": "code",
   "execution_count": 21,
   "metadata": {},
   "outputs": [],
   "source": [
    "# grid.best_params_"
   ]
  },
  {
   "cell_type": "code",
   "execution_count": 23,
   "metadata": {},
   "outputs": [],
   "source": [
    "# grid.best_estimator_"
   ]
  },
  {
   "cell_type": "code",
   "execution_count": 36,
   "metadata": {},
   "outputs": [
    {
     "data": {
      "text/plain": [
       "SVC(C=1000, gamma=0.001)"
      ]
     },
     "execution_count": 36,
     "metadata": {},
     "output_type": "execute_result"
    }
   ],
   "source": [
    "model2 = SVC(C=1000, gamma=0.001)\n",
    "model2.fit(X_train,y_train)"
   ]
  },
  {
   "cell_type": "code",
   "execution_count": 37,
   "metadata": {},
   "outputs": [],
   "source": [
    "grid_predictions = model2.predict(X_test)"
   ]
  },
  {
   "cell_type": "code",
   "execution_count": 38,
   "metadata": {},
   "outputs": [
    {
     "name": "stdout",
     "output_type": "stream",
     "text": [
      "[[787  29]\n",
      " [ 95 198]]\n"
     ]
    }
   ],
   "source": [
    "print(confusion_matrix(y_test,grid_predictions))"
   ]
  },
  {
   "cell_type": "code",
   "execution_count": 39,
   "metadata": {},
   "outputs": [
    {
     "name": "stdout",
     "output_type": "stream",
     "text": [
      "              precision    recall  f1-score   support\n",
      "\n",
      "           0       0.89      0.96      0.93       816\n",
      "           1       0.87      0.68      0.76       293\n",
      "\n",
      "    accuracy                           0.89      1109\n",
      "   macro avg       0.88      0.82      0.84      1109\n",
      "weighted avg       0.89      0.89      0.88      1109\n",
      "\n"
     ]
    }
   ],
   "source": [
    "print(classification_report(y_test,grid_predictions))"
   ]
  },
  {
   "cell_type": "code",
   "execution_count": 33,
   "metadata": {},
   "outputs": [
    {
     "data": {
      "text/plain": [
       "0.8830778479110309"
      ]
     },
     "execution_count": 33,
     "metadata": {},
     "output_type": "execute_result"
    }
   ],
   "source": [
    "accuracy_score(grid_predictions,y_test)"
   ]
  },
  {
   "cell_type": "code",
   "execution_count": 61,
   "metadata": {},
   "outputs": [
    {
     "data": {
      "image/png": "[encoded data removed]",
      "text/plain": [
       "<Figure size 720x360 with 2 Axes>"
      ]
     },
     "metadata": {
      "needs_background": "light"
     },
     "output_type": "display_data"
    }
   ],
   "source": [
    "fig,axes=plt.subplots(nrows=1,ncols=2,figsize=(10,5))\n",
    "axes[0].hist(grid_predictions)\n",
    "axes[0].set_title('Predictions')\n",
    "axes[1].hist(y_test,color='green')\n",
    "axes[1].set_title('Test')\n",
    "plt.tight_layout()"
   ]
  },
  {
   "cell_type": "code",
   "execution_count": null,
   "metadata": {},
   "outputs": [],
   "source": []
  }
 ],
 "metadata": {
  "kernelspec": {
   "display_name": "Python 3",
   "language": "python",
   "name": "python3"
  },
  "language_info": {
   "codemirror_mode": {
    "name": "ipython",
    "version": 3
   },
   "file_extension": ".py",
   "mimetype": "text/x-python",
   "name": "python",
   "nbconvert_exporter": "python",
   "pygments_lexer": "ipython3",
   "version": "3.8.6"
  }
 },
 "nbformat": 4,
 "nbformat_minor": 4
}
