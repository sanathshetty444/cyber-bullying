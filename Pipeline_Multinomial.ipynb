{
 "cells": [
  {
   "cell_type": "code",
   "execution_count": 1,
   "metadata": {},
   "outputs": [],
   "source": [
    "from sklearn.metrics import accuracy_score\n",
    "import pandas as pd\n",
    "import numpy as np\n",
    "import matplotlib.pyplot as plt\n",
    "import seaborn as sns\n",
    "%matplotlib inline\n",
    "from sklearn.feature_extraction.text import CountVectorizer\n",
    "from sklearn.feature_extraction.text import TfidfVectorizer,TfidfTransformer\n",
    "from sklearn.preprocessing import StandardScaler\n",
    "from sklearn.neighbors import KNeighborsClassifier\n",
    "from sklearn.model_selection import train_test_split\n",
    "from sklearn.metrics import classification_report "
   ]
  },
  {
   "cell_type": "code",
   "execution_count": 2,
   "metadata": {},
   "outputs": [],
   "source": [
    "data=pd.read_csv('labeled_tweets.csv')"
   ]
  },
  {
   "cell_type": "code",
   "execution_count": 3,
   "metadata": {},
   "outputs": [],
   "source": [
    "import string"
   ]
  },
  {
   "cell_type": "code",
   "execution_count": 4,
   "metadata": {},
   "outputs": [
    {
     "data": {
      "text/html": [
       "<div>\n",
       "<style scoped>\n",
       "    .dataframe tbody tr th:only-of-type {\n",
       "        vertical-align: middle;\n",
       "    }\n",
       "\n",
       "    .dataframe tbody tr th {\n",
       "        vertical-align: top;\n",
       "    }\n",
       "\n",
       "    .dataframe thead th {\n",
       "        text-align: right;\n",
       "    }\n",
       "</style>\n",
       "<table border=\"1\" class=\"dataframe\">\n",
       "  <thead>\n",
       "    <tr style=\"text-align: right;\">\n",
       "      <th></th>\n",
       "      <th>id</th>\n",
       "      <th>label</th>\n",
       "      <th>full_text</th>\n",
       "    </tr>\n",
       "  </thead>\n",
       "  <tbody>\n",
       "    <tr>\n",
       "      <th>0</th>\n",
       "      <td>572342978255048705</td>\n",
       "      <td>Offensive</td>\n",
       "      <td>So Drasko just said he was impressed the girls...</td>\n",
       "    </tr>\n",
       "    <tr>\n",
       "      <th>1</th>\n",
       "      <td>572342978255048705</td>\n",
       "      <td>Offensive</td>\n",
       "      <td>So Drasko just said he was impressed the girls...</td>\n",
       "    </tr>\n",
       "    <tr>\n",
       "      <th>2</th>\n",
       "      <td>572341498827522049</td>\n",
       "      <td>Offensive</td>\n",
       "      <td>Drasko they didn't cook half a bird you idiot ...</td>\n",
       "    </tr>\n",
       "    <tr>\n",
       "      <th>3</th>\n",
       "      <td>572341498827522049</td>\n",
       "      <td>Offensive</td>\n",
       "      <td>Drasko they didn't cook half a bird you idiot ...</td>\n",
       "    </tr>\n",
       "    <tr>\n",
       "      <th>4</th>\n",
       "      <td>572340476503724032</td>\n",
       "      <td>Offensive</td>\n",
       "      <td>Hopefully someone cooks Drasko in the next ep ...</td>\n",
       "    </tr>\n",
       "    <tr>\n",
       "      <th>...</th>\n",
       "      <td>...</td>\n",
       "      <td>...</td>\n",
       "      <td>...</td>\n",
       "    </tr>\n",
       "    <tr>\n",
       "      <th>11085</th>\n",
       "      <td>576255143101882368</td>\n",
       "      <td>Non-offensive</td>\n",
       "      <td>RT @Transition: @freebsdgirl just so I’m clear...</td>\n",
       "    </tr>\n",
       "    <tr>\n",
       "      <th>11086</th>\n",
       "      <td>576481461424934912</td>\n",
       "      <td>Non-offensive</td>\n",
       "      <td>RT @Leonard_Delaney: @freebsdgirl I know! Holy...</td>\n",
       "    </tr>\n",
       "    <tr>\n",
       "      <th>11087</th>\n",
       "      <td>576607445692256256</td>\n",
       "      <td>Non-offensive</td>\n",
       "      <td>FLOSS Weekly, open source projects, and paying...</td>\n",
       "    </tr>\n",
       "    <tr>\n",
       "      <th>11088</th>\n",
       "      <td>572268344394399744</td>\n",
       "      <td>Non-offensive</td>\n",
       "      <td>RT @Kasparov63: My WSJ article on Boris Nemtso...</td>\n",
       "    </tr>\n",
       "    <tr>\n",
       "      <th>11089</th>\n",
       "      <td>560595245814267905</td>\n",
       "      <td>Non-offensive</td>\n",
       "      <td>\"@panelrific: Let's go 🐧🐧🐧🐧🐧🐧😃\"</td>\n",
       "    </tr>\n",
       "  </tbody>\n",
       "</table>\n",
       "<p>11090 rows × 3 columns</p>\n",
       "</div>"
      ],
      "text/plain": [
       "                       id          label  \\\n",
       "0      572342978255048705      Offensive   \n",
       "1      572342978255048705      Offensive   \n",
       "2      572341498827522049      Offensive   \n",
       "3      572341498827522049      Offensive   \n",
       "4      572340476503724032      Offensive   \n",
       "...                   ...            ...   \n",
       "11085  576255143101882368  Non-offensive   \n",
       "11086  576481461424934912  Non-offensive   \n",
       "11087  576607445692256256  Non-offensive   \n",
       "11088  572268344394399744  Non-offensive   \n",
       "11089  560595245814267905  Non-offensive   \n",
       "\n",
       "                                               full_text  \n",
       "0      So Drasko just said he was impressed the girls...  \n",
       "1      So Drasko just said he was impressed the girls...  \n",
       "2      Drasko they didn't cook half a bird you idiot ...  \n",
       "3      Drasko they didn't cook half a bird you idiot ...  \n",
       "4      Hopefully someone cooks Drasko in the next ep ...  \n",
       "...                                                  ...  \n",
       "11085  RT @Transition: @freebsdgirl just so I’m clear...  \n",
       "11086  RT @Leonard_Delaney: @freebsdgirl I know! Holy...  \n",
       "11087  FLOSS Weekly, open source projects, and paying...  \n",
       "11088  RT @Kasparov63: My WSJ article on Boris Nemtso...  \n",
       "11089                    \"@panelrific: Let's go 🐧🐧🐧🐧🐧🐧😃\"  \n",
       "\n",
       "[11090 rows x 3 columns]"
      ]
     },
     "execution_count": 4,
     "metadata": {},
     "output_type": "execute_result"
    }
   ],
   "source": [
    "data"
   ]
  },
  {
   "cell_type": "code",
   "execution_count": 5,
   "metadata": {},
   "outputs": [],
   "source": [
    "import nltk"
   ]
  },
  {
   "cell_type": "code",
   "execution_count": 6,
   "metadata": {},
   "outputs": [],
   "source": [
    "from nltk.corpus import stopwords"
   ]
  },
  {
   "cell_type": "code",
   "execution_count": 7,
   "metadata": {},
   "outputs": [],
   "source": [
    "# bw=open('badwords','r')\n",
    "# bw=bw.read()\n",
    "# bw=bw.split('\\n')\n",
    "# bw\n"
   ]
  },
  {
   "cell_type": "code",
   "execution_count": 8,
   "metadata": {},
   "outputs": [],
   "source": [
    "def bad_words(msg):\n",
    "    return [word for word in msg.split() if word.lower() in bw]"
   ]
  },
  {
   "cell_type": "code",
   "execution_count": 9,
   "metadata": {},
   "outputs": [
    {
     "data": {
      "text/html": [
       "<div>\n",
       "<style scoped>\n",
       "    .dataframe tbody tr th:only-of-type {\n",
       "        vertical-align: middle;\n",
       "    }\n",
       "\n",
       "    .dataframe tbody tr th {\n",
       "        vertical-align: top;\n",
       "    }\n",
       "\n",
       "    .dataframe thead th {\n",
       "        text-align: right;\n",
       "    }\n",
       "</style>\n",
       "<table border=\"1\" class=\"dataframe\">\n",
       "  <thead>\n",
       "    <tr style=\"text-align: right;\">\n",
       "      <th></th>\n",
       "      <th>id</th>\n",
       "      <th>label</th>\n",
       "      <th>full_text</th>\n",
       "      <th>length</th>\n",
       "    </tr>\n",
       "  </thead>\n",
       "  <tbody>\n",
       "    <tr>\n",
       "      <th>0</th>\n",
       "      <td>572342978255048705</td>\n",
       "      <td>Offensive</td>\n",
       "      <td>So Drasko just said he was impressed the girls...</td>\n",
       "      <td>100</td>\n",
       "    </tr>\n",
       "    <tr>\n",
       "      <th>1</th>\n",
       "      <td>572342978255048705</td>\n",
       "      <td>Offensive</td>\n",
       "      <td>So Drasko just said he was impressed the girls...</td>\n",
       "      <td>100</td>\n",
       "    </tr>\n",
       "    <tr>\n",
       "      <th>2</th>\n",
       "      <td>572341498827522049</td>\n",
       "      <td>Offensive</td>\n",
       "      <td>Drasko they didn't cook half a bird you idiot ...</td>\n",
       "      <td>50</td>\n",
       "    </tr>\n",
       "    <tr>\n",
       "      <th>3</th>\n",
       "      <td>572341498827522049</td>\n",
       "      <td>Offensive</td>\n",
       "      <td>Drasko they didn't cook half a bird you idiot ...</td>\n",
       "      <td>50</td>\n",
       "    </tr>\n",
       "    <tr>\n",
       "      <th>4</th>\n",
       "      <td>572340476503724032</td>\n",
       "      <td>Offensive</td>\n",
       "      <td>Hopefully someone cooks Drasko in the next ep ...</td>\n",
       "      <td>53</td>\n",
       "    </tr>\n",
       "    <tr>\n",
       "      <th>...</th>\n",
       "      <td>...</td>\n",
       "      <td>...</td>\n",
       "      <td>...</td>\n",
       "      <td>...</td>\n",
       "    </tr>\n",
       "    <tr>\n",
       "      <th>11085</th>\n",
       "      <td>576255143101882368</td>\n",
       "      <td>Non-offensive</td>\n",
       "      <td>RT @Transition: @freebsdgirl just so I’m clear...</td>\n",
       "      <td>100</td>\n",
       "    </tr>\n",
       "    <tr>\n",
       "      <th>11086</th>\n",
       "      <td>576481461424934912</td>\n",
       "      <td>Non-offensive</td>\n",
       "      <td>RT @Leonard_Delaney: @freebsdgirl I know! Holy...</td>\n",
       "      <td>140</td>\n",
       "    </tr>\n",
       "    <tr>\n",
       "      <th>11087</th>\n",
       "      <td>576607445692256256</td>\n",
       "      <td>Non-offensive</td>\n",
       "      <td>FLOSS Weekly, open source projects, and paying...</td>\n",
       "      <td>79</td>\n",
       "    </tr>\n",
       "    <tr>\n",
       "      <th>11088</th>\n",
       "      <td>572268344394399744</td>\n",
       "      <td>Non-offensive</td>\n",
       "      <td>RT @Kasparov63: My WSJ article on Boris Nemtso...</td>\n",
       "      <td>140</td>\n",
       "    </tr>\n",
       "    <tr>\n",
       "      <th>11089</th>\n",
       "      <td>560595245814267905</td>\n",
       "      <td>Non-offensive</td>\n",
       "      <td>\"@panelrific: Let's go 🐧🐧🐧🐧🐧🐧😃\"</td>\n",
       "      <td>31</td>\n",
       "    </tr>\n",
       "  </tbody>\n",
       "</table>\n",
       "<p>11090 rows × 4 columns</p>\n",
       "</div>"
      ],
      "text/plain": [
       "                       id          label  \\\n",
       "0      572342978255048705      Offensive   \n",
       "1      572342978255048705      Offensive   \n",
       "2      572341498827522049      Offensive   \n",
       "3      572341498827522049      Offensive   \n",
       "4      572340476503724032      Offensive   \n",
       "...                   ...            ...   \n",
       "11085  576255143101882368  Non-offensive   \n",
       "11086  576481461424934912  Non-offensive   \n",
       "11087  576607445692256256  Non-offensive   \n",
       "11088  572268344394399744  Non-offensive   \n",
       "11089  560595245814267905  Non-offensive   \n",
       "\n",
       "                                               full_text  length  \n",
       "0      So Drasko just said he was impressed the girls...     100  \n",
       "1      So Drasko just said he was impressed the girls...     100  \n",
       "2      Drasko they didn't cook half a bird you idiot ...      50  \n",
       "3      Drasko they didn't cook half a bird you idiot ...      50  \n",
       "4      Hopefully someone cooks Drasko in the next ep ...      53  \n",
       "...                                                  ...     ...  \n",
       "11085  RT @Transition: @freebsdgirl just so I’m clear...     100  \n",
       "11086  RT @Leonard_Delaney: @freebsdgirl I know! Holy...     140  \n",
       "11087  FLOSS Weekly, open source projects, and paying...      79  \n",
       "11088  RT @Kasparov63: My WSJ article on Boris Nemtso...     140  \n",
       "11089                    \"@panelrific: Let's go 🐧🐧🐧🐧🐧🐧😃\"      31  \n",
       "\n",
       "[11090 rows x 4 columns]"
      ]
     },
     "execution_count": 9,
     "metadata": {},
     "output_type": "execute_result"
    }
   ],
   "source": [
    "data['length']=data['full_text'].apply(len)\n",
    "data"
   ]
  },
  {
   "cell_type": "code",
   "execution_count": 10,
   "metadata": {},
   "outputs": [],
   "source": [
    "def txt_process(msg):\n",
    "    nopunc=[c for c in msg if c not in string.punctuation]\n",
    "    nopunc=''.join(nopunc)\n",
    "    \n",
    "    return ''.join([word for word in nopunc.split() if word.lower() not in stopwords.words('english')])"
   ]
  },
  {
   "cell_type": "code",
   "execution_count": 11,
   "metadata": {},
   "outputs": [],
   "source": [
    "X=data['full_text']\n",
    "y=data['label']\n",
    "X_train, X_test, y_train, y_test = train_test_split(X, y, test_size=0.33, random_state=42)"
   ]
  },
  {
   "cell_type": "code",
   "execution_count": 12,
   "metadata": {},
   "outputs": [],
   "source": [
    "from sklearn.pipeline import Pipeline\n",
    "from sklearn.naive_bayes import MultinomialNB\n",
    "from sklearn.linear_model import LogisticRegression\n",
    "from sklearn.ensemble import RandomForestClassifier"
   ]
  },
  {
   "cell_type": "code",
   "execution_count": 17,
   "metadata": {},
   "outputs": [],
   "source": [
    "pipeline=Pipeline([\n",
    "    ('count',CountVectorizer(analyzer=txt_process)),\n",
    "    ('tfidf',TfidfTransformer()),\n",
    "    ('model',MultinomialNB())\n",
    "])"
   ]
  },
  {
   "cell_type": "code",
   "execution_count": 18,
   "metadata": {},
   "outputs": [
    {
     "data": {
      "text/plain": [
       "Pipeline(steps=[('count',\n",
       "                 CountVectorizer(analyzer=<function txt_process at 0x1C1D7220>)),\n",
       "                ('tfidf', TfidfTransformer()), ('model', MultinomialNB())])"
      ]
     },
     "execution_count": 18,
     "metadata": {},
     "output_type": "execute_result"
    }
   ],
   "source": [
    "pipeline.fit(X_train,y_train)"
   ]
  },
  {
   "cell_type": "code",
   "execution_count": 19,
   "metadata": {},
   "outputs": [],
   "source": [
    "pred=pipeline.predict(X_test)"
   ]
  },
  {
   "cell_type": "code",
   "execution_count": 20,
   "metadata": {},
   "outputs": [
    {
     "name": "stdout",
     "output_type": "stream",
     "text": [
      "0.73224043715847\n"
     ]
    }
   ],
   "source": [
    "print(accuracy_score(pred,y_test))"
   ]
  },
  {
   "cell_type": "code",
   "execution_count": null,
   "metadata": {},
   "outputs": [],
   "source": []
  },
  {
   "cell_type": "code",
   "execution_count": null,
   "metadata": {},
   "outputs": [],
   "source": []
  },
  {
   "cell_type": "code",
   "execution_count": null,
   "metadata": {},
   "outputs": [],
   "source": []
  }
 ],
 "metadata": {
  "kernelspec": {
   "display_name": "Python 3",
   "language": "python",
   "name": "python3"
  },
  "language_info": {
   "codemirror_mode": {
    "name": "ipython",
    "version": 3
   },
   "file_extension": ".py",
   "mimetype": "text/x-python",
   "name": "python",
   "nbconvert_exporter": "python",
   "pygments_lexer": "ipython3",
   "version": "3.8.6"
  }
 },
 "nbformat": 4,
 "nbformat_minor": 4
}
